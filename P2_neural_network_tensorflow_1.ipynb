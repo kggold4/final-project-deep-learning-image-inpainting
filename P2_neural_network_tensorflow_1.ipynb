{
 "cells": [
  {
   "cell_type": "markdown",
   "metadata": {},
   "source": [
    "# Neural Network for inpainting one pixel an image using tensorflow 1"
   ]
  },
  {
   "cell_type": "code",
   "execution_count": 1,
   "metadata": {},
   "outputs": [
    {
     "name": "stdout",
     "output_type": "stream",
     "text": [
      "WARNING:tensorflow:From C:\\Users\\Public\\anaconda3\\lib\\site-packages\\tensorflow\\python\\compat\\v2_compat.py:101: disable_resource_variables (from tensorflow.python.ops.variable_scope) is deprecated and will be removed in a future version.\n",
      "Instructions for updating:\n",
      "non-resource variables are not supported in the long term\n"
     ]
    }
   ],
   "source": [
    "import tensorflow.compat.v1 as tf\n",
    "tf.disable_v2_behavior()\n",
    "import numpy as np\n",
    "import matplotlib as plt\n",
    "from data_generators import gen_frm_pic\n",
    "from util_functions import util_functions\n",
    "\n",
    "INDEX_TRGT = 12\n",
    "INDEX_END = 24\n",
    "ROW_SHAPE = (1,25)"
   ]
  },
  {
   "cell_type": "markdown",
   "metadata": {},
   "source": [
    "## Generate images data"
   ]
  },
  {
   "cell_type": "code",
   "execution_count": 101,
   "metadata": {},
   "outputs": [
    {
     "name": "stdout",
     "output_type": "stream",
     "text": [
      "[[[ 42  23   6]\n",
      "  [ 35  16   1]\n",
      "  [ 29  10   0]\n",
      "  [ 32  14   0]\n",
      "  [ 46  28  16]]\n",
      "\n",
      " [[103  83  59]\n",
      "  [ 77  56  35]\n",
      "  [ 45  24   3]\n",
      "  [ 27   9   0]\n",
      "  [ 36  17   0]]\n",
      "\n",
      " [[185 162 130]\n",
      "  [164 143 112]\n",
      "  [132 111  82]\n",
      "  [113  92  65]\n",
      "  [ 65  43  19]]\n",
      "\n",
      " [[186 163 122]\n",
      "  [191 168 127]\n",
      "  [182 158 120]\n",
      "  [176 152 116]\n",
      "  [186 162 128]]\n",
      "\n",
      " [[168 142  93]\n",
      "  [167 140  93]\n",
      "  [172 145  98]\n",
      "  [186 159 114]\n",
      "  [197 173 129]]]\n",
      "[[[ 41  24  14]\n",
      "  [ 39  22  12]\n",
      "  [ 41  24  16]\n",
      "  [ 39  24  17]\n",
      "  [ 38  23  16]]\n",
      "\n",
      " [[ 32  13   0]\n",
      "  [ 29  11   0]\n",
      "  [ 32  14   2]\n",
      "  [ 34  16   4]\n",
      "  [ 31  13   3]]\n",
      "\n",
      " [[ 52  32   8]\n",
      "  [ 41  20   0]\n",
      "  [ 37  16   0]\n",
      "  [ 37  16   0]\n",
      "  [ 34  15   0]]\n",
      "\n",
      " [[158 135 103]\n",
      "  [123 100  69]\n",
      "  [ 94  70  42]\n",
      "  [ 75  51  23]\n",
      "  [ 62  38  12]]\n",
      "\n",
      " [[210 185 144]\n",
      "  [196 171 131]\n",
      "  [193 168 128]\n",
      "  [188 162 125]\n",
      "  [171 145 108]]]\n"
     ]
    }
   ],
   "source": [
    "data,data_test = gen_frm_pic.generate_5()\n",
    "print(data_test[0])\n",
    "print(data_test[1])\n"
   ]
  },
  {
   "cell_type": "markdown",
   "metadata": {},
   "source": [
    "## Split each pixel data to RGB channels"
   ]
  },
  {
   "cell_type": "code",
   "execution_count": 80,
   "metadata": {},
   "outputs": [
    {
     "name": "stdout",
     "output_type": "stream",
     "text": [
      "[ 42  35  29  32  46 103  77  45  27  36 185 164 197 113  65 186 191 182\n",
      " 176 186 168 167 172 186 132]\n",
      "[ 23  16  10  14  28  83  56  24   9  17 162 143 173  92  43 163 168 158\n",
      " 152 162 142 140 145 159 111]\n",
      "[  6   1   0   0  16  59  35   3   0   0 130 112 129  65  19 122 127 120\n",
      " 116 128  93  93  98 114  82]\n"
     ]
    }
   ],
   "source": [
    "# red channel data\n",
    "r_data = []\n",
    "\n",
    "# green channel data\n",
    "g_data = []\n",
    "\n",
    "# blue channel data\n",
    "b_data = []\n",
    "\n",
    "\n",
    "for image in data:\n",
    "    \n",
    "    r_temp=[]\n",
    "    b_temp=[]\n",
    "    g_temp=[]\n",
    "    for i in range(5):\n",
    "        for j in range(5):\n",
    "            r_temp.append(image[i][j][0])\n",
    "            b_temp.append(image[i][j][1])\n",
    "            g_temp.append(image[i][j][2])\n",
    "    r_array=np.asarray(r_temp)\n",
    "    g_array=np.asarray(r_temp)\n",
    "    b_array=np.asarray(r_temp)\n",
    "    util_functions.swap(r_array,INDEX_TRGT,INDEX_END)\n",
    "    util_functions.swap(g_array,INDEX_TRGT,INDEX_END)\n",
    "    util_functions.swap(b_array,INDEX_TRGT,INDEX_END)\n",
    "    r_data.append(r_array)\n",
    "    g_data.append(g_array)\n",
    "    b_data.append(b_array)\n",
    "    \n",
    "r_test = []\n",
    "g_test = []\n",
    "b_test = []\n",
    "\n",
    "for image in data_test:\n",
    "    \n",
    "    r_temp=[]\n",
    "    b_temp=[]\n",
    "    g_temp=[]\n",
    "    for i in range(5):\n",
    "        for j in range(5):\n",
    "            r_temp.append(image[i][j][0])\n",
    "            g_temp.append(image[i][j][1])\n",
    "            b_temp.append(image[i][j][2])\n",
    "    r_array=np.asarray(r_temp)\n",
    "    g_array=np.asarray(g_temp)\n",
    "    b_array=np.asarray(b_temp)\n",
    "    util_functions.swap(r_array,INDEX_TRGT,INDEX_END)\n",
    "    util_functions.swap(g_array,INDEX_TRGT,INDEX_END)\n",
    "    util_functions.swap(b_array,INDEX_TRGT,INDEX_END)\n",
    "    r_test.append(r_array)\n",
    "    g_test.append(g_array)\n",
    "    b_test.append(b_array)\n",
    "    \n",
    "data = [r_data, g_data, b_data]\n",
    "test = [r_test, g_test, b_test]\n",
    "print(r_test[0])\n",
    "print(g_test[0])\n",
    "print(b_test[0])"
   ]
  },
  {
   "cell_type": "markdown",
   "metadata": {},
   "source": [
    "## Split data to train, test and vailation data"
   ]
  },
  {
   "cell_type": "code",
   "execution_count": 85,
   "metadata": {},
   "outputs": [
    {
     "name": "stdout",
     "output_type": "stream",
     "text": [
      "[42, 35, 29, 32, 46, 103, 77, 45, 27, 36, 185, 164, 197, 113, 65, 186, 191, 182, 176, 186, 168, 167, 172, 186]\n"
     ]
    }
   ],
   "source": [
    "\n",
    "\n",
    "x_train_r = []\n",
    "y_train_r = []\n",
    "\n",
    "x_test_r = []\n",
    "x_test_g = []\n",
    "x_test_b = []\n",
    "\n",
    "y_test_r = []\n",
    "y_test_g = []\n",
    "y_test_b = []\n",
    "\n",
    "for i in range(len(r_data)):\n",
    "    x_train_r.append(r_data[i][0:INDEX_END].tolist())\n",
    "    y_train_r.append([r_data[i][INDEX_END]])\n",
    "\n",
    "for i in range(len(r_test)):\n",
    "    \n",
    "    x_test_r.append(r_test[i][0:INDEX_END].tolist())\n",
    "    x_test_g.append(g_test[i][0:INDEX_END].tolist())\n",
    "    x_test_b.append(b_test[i][0:INDEX_END].tolist())\n",
    "\n",
    "    y_test_r.append([r_test[i][INDEX_END]])\n",
    "    y_test_g.append([g_test[i][INDEX_END]])\n",
    "    y_test_b.append([b_test[i][INDEX_END]])\n",
    "\n",
    "\n",
    "x_testers = [x_test_r,x_test_g,x_test_b]\n",
    "y_testers = [y_test_r,y_test_g,y_test_b]\n",
    "print(x_test_r[0])"
   ]
  },
  {
   "cell_type": "code",
   "execution_count": 5,
   "metadata": {},
   "outputs": [
    {
     "data": {
      "text/plain": [
       "[104,\n",
       " 93,\n",
       " 80,\n",
       " 82,\n",
       " 75,\n",
       " 97,\n",
       " 95,\n",
       " 92,\n",
       " 88,\n",
       " 81,\n",
       " 91,\n",
       " 93,\n",
       " 87,\n",
       " 95,\n",
       " 89,\n",
       " 87,\n",
       " 87,\n",
       " 88,\n",
       " 96,\n",
       " 91,\n",
       " 82,\n",
       " 84,\n",
       " 87,\n",
       " 94]"
      ]
     },
     "execution_count": 5,
     "metadata": {},
     "output_type": "execute_result"
    }
   ],
   "source": [
    "x_train_r[1]"
   ]
  },
  {
   "cell_type": "markdown",
   "metadata": {},
   "source": [
    "## Model"
   ]
  },
  {
   "cell_type": "code",
   "execution_count": 6,
   "metadata": {},
   "outputs": [],
   "source": [
    "features = 24 # each pixel\n",
    "hidden_layer_nodes = 16\n",
    "loss_plot = []\n",
    "test_plot = []\n",
    "x = tf.placeholder(tf.float32, [None, features])\n",
    "y_ = tf.placeholder(tf.float32, [None, 1])\n",
    "W1 = tf.Variable(tf.truncated_normal([features, hidden_layer_nodes]))\n",
    "b1 = tf.Variable(tf.constant(0.1, shape=[hidden_layer_nodes]))\n",
    "z1 = tf.add(tf.matmul(x,W1),b1)\n",
    "a1 = tf.nn.relu(z1) # using relu function\n",
    "W2 = tf.Variable(tf.truncated_normal([hidden_layer_nodes,1]))\n",
    "b2 = tf.Variable(0.)\n",
    "z2 = tf.matmul(a1,W2) + b2\n",
    "st_w = []\n",
    "nd_w = []\n",
    "\n",
    "loss = tf.reduce_mean(tf.pow(z2 - y_, 2))\n",
    "update = tf.train.AdamOptimizer(0.001).minimize(loss) # using adam optimizer\n",
    "\n",
    "sess = tf.Session()\n",
    "sess.run(tf.global_variables_initializer())\n",
    "\n",
    "for i in range(0,10000):\n",
    "        sess.run(update, feed_dict = {x:x_train_r, y_:y_train_r})\n",
    "        st_w.append(sess.run(W1))\n",
    "        nd_w.append(sess.run(W2))\n",
    "#         loss_plot.append(loss.eval(session=sess, feed_dict = {x:x_train_r, y_:y_train_r}))\n",
    "#         test_plot.append(loss.eval(session=sess,feed_dict = {x:x_testers[0],y_:y_testers[0]}))"
   ]
  },
  {
   "cell_type": "code",
   "execution_count": 7,
   "metadata": {},
   "outputs": [
    {
     "name": "stdout",
     "output_type": "stream",
     "text": [
      "3.912907\n"
     ]
    }
   ],
   "source": [
    "print(np.sqrt(loss.eval(session=sess, feed_dict = {x:x_train_r, y_:y_train_r})))"
   ]
  },
  {
   "cell_type": "code",
   "execution_count": 9,
   "metadata": {},
   "outputs": [
    {
     "name": "stdout",
     "output_type": "stream",
     "text": [
      "[ 0.6458078  -1.6105723   1.6243376  -0.45313388 -1.0455402  -1.0087045\n",
      " -1.418447   -0.13969998  0.83939123 -1.203666    0.35891354  0.18061507\n",
      "  0.38902748  0.08202568  1.1483005  -0.2130314  -1.4496152   1.5345676\n",
      "  0.68369097 -0.5662077  -0.7569122  -0.4635392  -0.08979792  0.63165027]\n"
     ]
    },
    {
     "data": {
      "text/plain": [
       "[<matplotlib.lines.Line2D at 0x188e5fc9a60>,\n",
       " <matplotlib.lines.Line2D at 0x188e5fc9a90>,\n",
       " <matplotlib.lines.Line2D at 0x188e5fc9bb0>,\n",
       " <matplotlib.lines.Line2D at 0x188e5fc9cd0>,\n",
       " <matplotlib.lines.Line2D at 0x188e5fc9df0>,\n",
       " <matplotlib.lines.Line2D at 0x188e5fc9f10>,\n",
       " <matplotlib.lines.Line2D at 0x188e5fd0070>,\n",
       " <matplotlib.lines.Line2D at 0x188e5fd0190>,\n",
       " <matplotlib.lines.Line2D at 0x188e5fd02b0>,\n",
       " <matplotlib.lines.Line2D at 0x188e5fd03d0>,\n",
       " <matplotlib.lines.Line2D at 0x188e5fd04f0>,\n",
       " <matplotlib.lines.Line2D at 0x188e5fd0610>,\n",
       " <matplotlib.lines.Line2D at 0x188e5fd0730>,\n",
       " <matplotlib.lines.Line2D at 0x188e5fd0850>,\n",
       " <matplotlib.lines.Line2D at 0x188e5fd0970>,\n",
       " <matplotlib.lines.Line2D at 0x188e5fd0a90>,\n",
       " <matplotlib.lines.Line2D at 0x188e5fd0bb0>,\n",
       " <matplotlib.lines.Line2D at 0x188e5fd0cd0>,\n",
       " <matplotlib.lines.Line2D at 0x188e5fd0df0>,\n",
       " <matplotlib.lines.Line2D at 0x188e5fd0f10>,\n",
       " <matplotlib.lines.Line2D at 0x188e5fd9070>,\n",
       " <matplotlib.lines.Line2D at 0x188e5fd9190>,\n",
       " <matplotlib.lines.Line2D at 0x188e5fd92b0>,\n",
       " <matplotlib.lines.Line2D at 0x188e5fd93d0>]"
      ]
     },
     "execution_count": 9,
     "metadata": {},
     "output_type": "execute_result"
    },
    {
     "data": {
      "image/png": "[encoded data removed]",
      "text/plain": [
       "<Figure size 432x288 with 1 Axes>"
      ]
     },
     "metadata": {
      "needs_background": "light"
     },
     "output_type": "display_data"
    }
   ],
   "source": [
    "d = np.array(np.array(st_w).transpose()[0]).transpose()\n",
    "print(d[900])\n",
    "plt.pyplot.plot(d)\n",
    "plt.pyplot.ylabel('first layer over time')\n",
    "plt.pyplot.plot(d)"
   ]
  },
  {
   "cell_type": "code",
   "execution_count": 10,
   "metadata": {},
   "outputs": [
    {
     "name": "stdout",
     "output_type": "stream",
     "text": [
      "[ 0.350817    1.8574142  -0.24823491 -1.9555566   0.64207417  0.5498483\n",
      " -0.00724694  0.70345604 -0.37735432 -1.3782353   0.6473259  -0.03658207\n",
      "  2.140557    1.0461307  -0.18031983 -0.05804102]\n"
     ]
    },
    {
     "data": {
      "text/plain": [
       "[<matplotlib.lines.Line2D at 0x188e8058850>,\n",
       " <matplotlib.lines.Line2D at 0x188e8058880>,\n",
       " <matplotlib.lines.Line2D at 0x188e80589a0>,\n",
       " <matplotlib.lines.Line2D at 0x188e8058ac0>,\n",
       " <matplotlib.lines.Line2D at 0x188e8058be0>,\n",
       " <matplotlib.lines.Line2D at 0x188e8058d00>,\n",
       " <matplotlib.lines.Line2D at 0x188e8058e20>,\n",
       " <matplotlib.lines.Line2D at 0x188e8058f40>,\n",
       " <matplotlib.lines.Line2D at 0x188e80600a0>,\n",
       " <matplotlib.lines.Line2D at 0x188e80601c0>,\n",
       " <matplotlib.lines.Line2D at 0x188e80602e0>,\n",
       " <matplotlib.lines.Line2D at 0x188e8060400>,\n",
       " <matplotlib.lines.Line2D at 0x188e8060520>,\n",
       " <matplotlib.lines.Line2D at 0x188e8060640>,\n",
       " <matplotlib.lines.Line2D at 0x188e8060760>,\n",
       " <matplotlib.lines.Line2D at 0x188e8060880>]"
      ]
     },
     "execution_count": 10,
     "metadata": {},
     "output_type": "execute_result"
    },
    {
     "data": {
      "image/png": "[encoded data removed]",
      "text/plain": [
       "<Figure size 432x288 with 1 Axes>"
      ]
     },
     "metadata": {
      "needs_background": "light"
     },
     "output_type": "display_data"
    }
   ],
   "source": [
    "d = np.array(np.array(nd_w).transpose()[0]).transpose()\n",
    "print(d[900])\n",
    "plt.pyplot.plot(d)\n",
    "plt.pyplot.ylabel('second layer over time')\n",
    "plt.pyplot.plot(d)"
   ]
  },
  {
   "cell_type": "code",
   "execution_count": 86,
   "metadata": {},
   "outputs": [
    {
     "name": "stdout",
     "output_type": "stream",
     "text": [
      "sqaured test error on the red channel: 6.5161524\n",
      "sqaured test error on the red channel: 13.916964\n",
      "sqaured test error on the red channel: 28.060259\n"
     ]
    }
   ],
   "source": [
    "\n",
    "print(\"sqaured test error on the red channel:\", np.sqrt(loss.eval(session=sess, feed_dict = {x:x_testers[0], y_:y_testers[0]})))\n",
    "print(\"sqaured test error on the green channel:\", np.sqrt(loss.eval(session=sess, feed_dict = {x:x_testers[1], y_:y_testers[1]})))\n",
    "print(\"sqaured test error on the blue channel:\", np.sqrt(loss.eval(session=sess, feed_dict = {x:x_testers[2], y_:y_testers[2]})))"
   ]
  },
  {
   "cell_type": "code",
   "execution_count": 87,
   "metadata": {},
   "outputs": [],
   "source": [
    "# x_testers[0][0] \n",
    "# x_testers[1][0] \n",
    "# x_testers[2][0]\n",
    "\n",
    "arr_r = np.asarray(x_testers[0])\n",
    "arr_g =  np.asarray(x_testers[1])\n",
    "arr_b =  np.asarray(x_testers[2])\n",
    "p_r = sess.run(tf.nn.relu(z2),feed_dict={x:arr_r})\n",
    "p_g = sess.run(tf.nn.relu(z2),feed_dict={x:arr_g})\n",
    "p_b = sess.run(tf.nn.relu(z2),feed_dict={x:arr_b})\n"
   ]
  },
  {
   "cell_type": "code",
   "execution_count": 100,
   "metadata": {},
   "outputs": [
    {
     "name": "stdout",
     "output_type": "stream",
     "text": [
      "6400\n",
      "[[[ 42  23   6]\n",
      "  [ 35  16   1]\n",
      "  [ 29  10   0]\n",
      "  [ 32  14   0]\n",
      "  [ 46  28  16]]\n",
      "\n",
      " [[103  83  59]\n",
      "  [ 77  56  35]\n",
      "  [ 45  24   3]\n",
      "  [ 27   9   0]\n",
      "  [ 36  17   0]]\n",
      "\n",
      " [[185 162 130]\n",
      "  [164 143 112]\n",
      "  [134 112  79]\n",
      "  [113  92  65]\n",
      "  [ 65  43  19]]\n",
      "\n",
      " [[186 163 122]\n",
      "  [191 168 127]\n",
      "  [182 158 120]\n",
      "  [176 152 116]\n",
      "  [186 162 128]]\n",
      "\n",
      " [[168 142  93]\n",
      "  [167 140  93]\n",
      "  [172 145  98]\n",
      "  [186 159 114]\n",
      "  [197 173 129]]]\n",
      "[[[ 41  24  14]\n",
      "  [ 39  22  12]\n",
      "  [ 41  24  16]\n",
      "  [ 39  24  17]\n",
      "  [ 38  23  16]]\n",
      "\n",
      " [[ 32  13   0]\n",
      "  [ 29  11   0]\n",
      "  [ 32  14   2]\n",
      "  [ 34  16   4]\n",
      "  [ 31  13   3]]\n",
      "\n",
      " [[ 52  32   8]\n",
      "  [ 41  20   0]\n",
      "  [ 38  19  12]\n",
      "  [ 37  16   0]\n",
      "  [ 34  15   0]]\n",
      "\n",
      " [[158 135 103]\n",
      "  [123 100  69]\n",
      "  [ 94  70  42]\n",
      "  [ 75  51  23]\n",
      "  [ 62  38  12]]\n",
      "\n",
      " [[210 185 144]\n",
      "  [196 171 131]\n",
      "  [193 168 128]\n",
      "  [188 162 125]\n",
      "  [171 145 108]]]\n"
     ]
    }
   ],
   "source": [
    "matrices = []\n",
    "for i in range(len(arr_r)):\n",
    "    temp_r = arr_r[i].tolist()\n",
    "    temp_g = arr_g[i].tolist()\n",
    "    temp_b = arr_b[i].tolist()\n",
    "    temp_r.append(int(p_r[i][0]))\n",
    "    temp_g.append(int(p_g[i][0]))\n",
    "    temp_b.append(int(p_b[i][0]))\n",
    "    util_functions.swap(temp_r,INDEX_TRGT,INDEX_END)\n",
    "    util_functions.swap(temp_g,INDEX_TRGT,INDEX_END)\n",
    "    util_functions.swap(temp_b,INDEX_TRGT,INDEX_END)\n",
    "    k = 0\n",
    "    mat = []\n",
    "    for j in range(0,5):\n",
    "        matrice = []\n",
    "        for m in range(0,5):\n",
    "            pixel = [temp_r[k],temp_g[k],temp_b[k]]\n",
    "            k+=1\n",
    "            matrice.append(pixel)\n",
    "        mat.append(matrice)\n",
    "    matrix = np.asarray(mat)\n",
    "    matrices.append(matrix)\n",
    "print(len(matrices))\n",
    "print(matrices[0])\n",
    "print(matrices[1])"
   ]
  },
  {
   "cell_type": "code",
   "execution_count": 104,
   "metadata": {},
   "outputs": [
    {
     "name": "stdout",
     "output_type": "stream",
     "text": [
      "(5, 400, 3)\n",
      "(5, 400, 3)\n",
      "(5, 400, 3)\n",
      "(5, 400, 3)\n",
      "(5, 400, 3)\n",
      "(5, 400, 3)\n",
      "(5, 400, 3)\n",
      "(5, 400, 3)\n",
      "(5, 400, 3)\n",
      "(5, 400, 3)\n",
      "(5, 400, 3)\n",
      "(5, 400, 3)\n",
      "(5, 400, 3)\n",
      "(5, 400, 3)\n",
      "(5, 400, 3)\n",
      "(5, 400, 3)\n",
      "(5, 400, 3)\n",
      "(5, 400, 3)\n",
      "(5, 400, 3)\n",
      "(5, 400, 3)\n",
      "(5, 400, 3)\n",
      "(5, 400, 3)\n",
      "(5, 400, 3)\n",
      "(5, 400, 3)\n",
      "(5, 400, 3)\n",
      "(5, 400, 3)\n",
      "(5, 400, 3)\n",
      "(5, 400, 3)\n",
      "(5, 400, 3)\n",
      "(5, 400, 3)\n",
      "(5, 400, 3)\n",
      "(5, 400, 3)\n",
      "(5, 400, 3)\n",
      "(5, 400, 3)\n",
      "(5, 400, 3)\n",
      "(5, 400, 3)\n",
      "(5, 400, 3)\n",
      "(5, 400, 3)\n",
      "(5, 400, 3)\n",
      "(5, 400, 3)\n",
      "(5, 400, 3)\n",
      "(5, 400, 3)\n",
      "(5, 400, 3)\n",
      "(5, 400, 3)\n",
      "(5, 400, 3)\n",
      "(5, 400, 3)\n",
      "(5, 400, 3)\n",
      "(5, 400, 3)\n",
      "(5, 400, 3)\n",
      "(5, 400, 3)\n",
      "(5, 400, 3)\n",
      "(5, 400, 3)\n",
      "(5, 400, 3)\n",
      "(5, 400, 3)\n",
      "(5, 400, 3)\n",
      "(5, 400, 3)\n",
      "(5, 400, 3)\n",
      "(5, 400, 3)\n",
      "(5, 400, 3)\n",
      "(5, 400, 3)\n",
      "(5, 400, 3)\n",
      "(5, 400, 3)\n",
      "(5, 400, 3)\n",
      "(5, 400, 3)\n",
      "(5, 400, 3)\n",
      "(5, 400, 3)\n",
      "(5, 400, 3)\n",
      "(5, 400, 3)\n",
      "(5, 400, 3)\n",
      "(5, 400, 3)\n",
      "(5, 400, 3)\n",
      "(5, 400, 3)\n",
      "(5, 400, 3)\n",
      "(5, 400, 3)\n",
      "(5, 400, 3)\n",
      "(5, 400, 3)\n",
      "(5, 400, 3)\n",
      "(5, 400, 3)\n",
      "(5, 400, 3)\n",
      "(5, 400, 3)\n"
     ]
    }
   ],
   "source": [
    "from PIL import Image as mg\n",
    "\n",
    "\n",
    "data = matrices\n",
    "i = 0\n",
    "lines = []\n",
    "# i += 1\n",
    "size = 5\n",
    "data_size = (len(data))\n",
    "\n",
    "for _ in range(80):\n",
    "    concat = data[i]\n",
    "    i+=1\n",
    "    for _ in range(1,80):\n",
    "        temp = data[i]\n",
    "        concat = np.concatenate((concat, temp), axis=1)\n",
    "        i += 1\n",
    "    print(concat.shape)\n",
    "    lines.append(concat)\n",
    "\n",
    "concat = lines[0]\n",
    "\n",
    "for i in range(1, len(lines)):\n",
    "    concat = np.concatenate((concat, lines[i]), axis=0)\n",
    "\n",
    "\n",
    "\n",
    "im = mg.fromarray(concat,'RGB')\n",
    "im.save(\"output_image_neural_network.jpeg\")"
   ]
  }
 ],
 "metadata": {
  "interpreter": {
   "hash": "b3ba2566441a7c06988d0923437866b63cedc61552a5af99d1f4fb67d367b25f"
  },
  "kernelspec": {
   "display_name": "Python 3",
   "language": "python",
   "name": "python3"
  },
  "language_info": {
   "codemirror_mode": {
    "name": "ipython",
    "version": 3
   },
   "file_extension": ".py",
   "mimetype": "text/x-python",
   "name": "python",
   "nbconvert_exporter": "python",
   "pygments_lexer": "ipython3",
   "version": "3.8.5"
  }
 },
 "nbformat": 4,
 "nbformat_minor": 2
}
