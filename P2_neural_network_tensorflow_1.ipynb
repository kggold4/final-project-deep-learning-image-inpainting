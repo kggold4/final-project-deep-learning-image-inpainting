{
 "cells": [
  {
   "cell_type": "markdown",
   "metadata": {},
   "source": [
    "# Neural Network for inpainting one pixel an image using tensorflow 1"
   ]
  },
  {
   "cell_type": "code",
   "execution_count": 1,
   "metadata": {},
   "outputs": [
    {
     "name": "stdout",
     "output_type": "stream",
     "text": [
      "WARNING:tensorflow:From C:\\ProgramData\\Anaconda3\\lib\\site-packages\\tensorflow\\python\\compat\\v2_compat.py:96: disable_resource_variables (from tensorflow.python.ops.variable_scope) is deprecated and will be removed in a future version.\n",
      "Instructions for updating:\n",
      "non-resource variables are not supported in the long term\n"
     ]
    }
   ],
   "source": [
    "import tensorflow.compat.v1 as tf\n",
    "tf.disable_v2_behavior()\n",
    "import numpy as np\n",
    "import matplotlib as plt\n",
    "from PIL import Image as mg\n",
    "from data_generators import gen_frm_pic\n",
    "from util_functions import util_functions\n",
    "\n",
    "INDEX_TRGT = 12\n",
    "INDEX_END = 24\n",
    "ROW_SHAPE = (1,25)"
   ]
  },
  {
   "cell_type": "markdown",
   "metadata": {},
   "source": [
    "## Generate images data"
   ]
  },
  {
   "cell_type": "code",
   "execution_count": 2,
   "metadata": {},
   "outputs": [
    {
     "name": "stdout",
     "output_type": "stream",
     "text": [
      "[[[ 42  23   6]\n",
      "  [ 35  16   1]\n",
      "  [ 29  10   0]\n",
      "  [ 32  14   0]\n",
      "  [ 46  28  16]]\n",
      "\n",
      " [[103  83  59]\n",
      "  [ 77  56  35]\n",
      "  [ 45  24   3]\n",
      "  [ 27   9   0]\n",
      "  [ 36  17   0]]\n",
      "\n",
      " [[185 162 130]\n",
      "  [164 143 112]\n",
      "  [132 111  82]\n",
      "  [113  92  65]\n",
      "  [ 65  43  19]]\n",
      "\n",
      " [[186 163 122]\n",
      "  [191 168 127]\n",
      "  [182 158 120]\n",
      "  [176 152 116]\n",
      "  [186 162 128]]\n",
      "\n",
      " [[168 142  93]\n",
      "  [167 140  93]\n",
      "  [172 145  98]\n",
      "  [186 159 114]\n",
      "  [197 173 129]]]\n",
      "[[[ 41  24  14]\n",
      "  [ 39  22  12]\n",
      "  [ 41  24  16]\n",
      "  [ 39  24  17]\n",
      "  [ 38  23  16]]\n",
      "\n",
      " [[ 32  13   0]\n",
      "  [ 29  11   0]\n",
      "  [ 32  14   2]\n",
      "  [ 34  16   4]\n",
      "  [ 31  13   3]]\n",
      "\n",
      " [[ 52  32   8]\n",
      "  [ 41  20   0]\n",
      "  [ 37  16   0]\n",
      "  [ 37  16   0]\n",
      "  [ 34  15   0]]\n",
      "\n",
      " [[158 135 103]\n",
      "  [123 100  69]\n",
      "  [ 94  70  42]\n",
      "  [ 75  51  23]\n",
      "  [ 62  38  12]]\n",
      "\n",
      " [[210 185 144]\n",
      "  [196 171 131]\n",
      "  [193 168 128]\n",
      "  [188 162 125]\n",
      "  [171 145 108]]]\n"
     ]
    }
   ],
   "source": [
    "data,data_test = gen_frm_pic.generate_5()\n",
    "print(data_test[0])\n",
    "print(data_test[1])"
   ]
  },
  {
   "cell_type": "markdown",
   "metadata": {},
   "source": [
    "## Split each pixel data to RGB channels"
   ]
  },
  {
   "cell_type": "code",
   "execution_count": 3,
   "metadata": {},
   "outputs": [
    {
     "name": "stdout",
     "output_type": "stream",
     "text": [
      "[ 42  35  29  32  46 103  77  45  27  36 185 164 197 113  65 186 191 182\n",
      " 176 186 168 167 172 186 132]\n",
      "[ 23  16  10  14  28  83  56  24   9  17 162 143 173  92  43 163 168 158\n",
      " 152 162 142 140 145 159 111]\n",
      "[  6   1   0   0  16  59  35   3   0   0 130 112 129  65  19 122 127 120\n",
      " 116 128  93  93  98 114  82]\n"
     ]
    }
   ],
   "source": [
    "# red channel data\n",
    "r_data = []\n",
    "\n",
    "# green channel data\n",
    "g_data = []\n",
    "\n",
    "# blue channel data\n",
    "b_data = []\n",
    "\n",
    "\n",
    "for image in data:\n",
    "    \n",
    "    r_temp=[]\n",
    "    b_temp=[]\n",
    "    g_temp=[]\n",
    "    for i in range(5):\n",
    "        for j in range(5):\n",
    "            r_temp.append(image[i][j][0])\n",
    "            b_temp.append(image[i][j][1])\n",
    "            g_temp.append(image[i][j][2])\n",
    "    r_array=np.asarray(r_temp)\n",
    "    g_array=np.asarray(r_temp)\n",
    "    b_array=np.asarray(r_temp)\n",
    "    util_functions.swap(r_array,INDEX_TRGT,INDEX_END)\n",
    "    util_functions.swap(g_array,INDEX_TRGT,INDEX_END)\n",
    "    util_functions.swap(b_array,INDEX_TRGT,INDEX_END)\n",
    "    r_data.append(r_array)\n",
    "    g_data.append(g_array)\n",
    "    b_data.append(b_array)\n",
    "    \n",
    "r_test = []\n",
    "g_test = []\n",
    "b_test = []\n",
    "\n",
    "for image in data_test:\n",
    "    \n",
    "    r_temp=[]\n",
    "    b_temp=[]\n",
    "    g_temp=[]\n",
    "    for i in range(5):\n",
    "        for j in range(5):\n",
    "            r_temp.append(image[i][j][0])\n",
    "            g_temp.append(image[i][j][1])\n",
    "            b_temp.append(image[i][j][2])\n",
    "    r_array=np.asarray(r_temp)\n",
    "    g_array=np.asarray(g_temp)\n",
    "    b_array=np.asarray(b_temp)\n",
    "    util_functions.swap(r_array,INDEX_TRGT,INDEX_END)\n",
    "    util_functions.swap(g_array,INDEX_TRGT,INDEX_END)\n",
    "    util_functions.swap(b_array,INDEX_TRGT,INDEX_END)\n",
    "    r_test.append(r_array)\n",
    "    g_test.append(g_array)\n",
    "    b_test.append(b_array)\n",
    "    \n",
    "data = [r_data, g_data, b_data]\n",
    "test = [r_test, g_test, b_test]\n",
    "print(r_test[0])\n",
    "print(g_test[0])\n",
    "print(b_test[0])"
   ]
  },
  {
   "cell_type": "markdown",
   "metadata": {},
   "source": [
    "## Split data to train, test and vailation data"
   ]
  },
  {
   "cell_type": "code",
   "execution_count": 4,
   "metadata": {},
   "outputs": [
    {
     "name": "stdout",
     "output_type": "stream",
     "text": [
      "[42, 35, 29, 32, 46, 103, 77, 45, 27, 36, 185, 164, 197, 113, 65, 186, 191, 182, 176, 186, 168, 167, 172, 186]\n"
     ]
    }
   ],
   "source": [
    "x_train_r = []\n",
    "y_train_r = []\n",
    "\n",
    "x_test_r = []\n",
    "x_test_g = []\n",
    "x_test_b = []\n",
    "\n",
    "y_test_r = []\n",
    "y_test_g = []\n",
    "y_test_b = []\n",
    "\n",
    "for i in range(len(r_data)):\n",
    "    x_train_r.append(r_data[i][0:INDEX_END].tolist())\n",
    "    y_train_r.append([r_data[i][INDEX_END]])\n",
    "\n",
    "for i in range(len(r_test)):\n",
    "    \n",
    "    x_test_r.append(r_test[i][0:INDEX_END].tolist())\n",
    "    x_test_g.append(g_test[i][0:INDEX_END].tolist())\n",
    "    x_test_b.append(b_test[i][0:INDEX_END].tolist())\n",
    "\n",
    "    y_test_r.append([r_test[i][INDEX_END]])\n",
    "    y_test_g.append([g_test[i][INDEX_END]])\n",
    "    y_test_b.append([b_test[i][INDEX_END]])\n",
    "\n",
    "\n",
    "x_testers = [x_test_r,x_test_g,x_test_b]\n",
    "y_testers = [y_test_r,y_test_g,y_test_b]\n",
    "print(x_test_r[0])"
   ]
  },
  {
   "cell_type": "markdown",
   "metadata": {},
   "source": [
    "## Model"
   ]
  },
  {
   "cell_type": "code",
   "execution_count": 5,
   "metadata": {},
   "outputs": [],
   "source": [
    "features = 24 # each pixel\n",
    "hidden_layer_nodes = 16\n",
    "loss_plot = []\n",
    "test_plot = []\n",
    "x = tf.placeholder(tf.float32, [None, features])\n",
    "y_ = tf.placeholder(tf.float32, [None, 1])\n",
    "W1 = tf.Variable(tf.truncated_normal([features, hidden_layer_nodes]))\n",
    "b1 = tf.Variable(tf.constant(0.1, shape=[hidden_layer_nodes]))\n",
    "z1 = tf.add(tf.matmul(x,W1),b1)\n",
    "a1 = tf.nn.relu(z1) # using relu function\n",
    "W2 = tf.Variable(tf.truncated_normal([hidden_layer_nodes,1]))\n",
    "b2 = tf.Variable(0.)\n",
    "z2 = tf.matmul(a1,W2) + b2\n",
    "st_w = []\n",
    "nd_w = []\n",
    "\n",
    "loss = tf.reduce_mean(tf.pow(z2 - y_, 2))\n",
    "update = tf.train.AdamOptimizer(0.001).minimize(loss) # using adam optimizer\n",
    "\n",
    "sess = tf.Session()\n",
    "sess.run(tf.global_variables_initializer())\n",
    "\n",
    "for i in range(0,10000):\n",
    "        sess.run(update, feed_dict = {x:x_train_r, y_:y_train_r})\n",
    "        st_w.append(sess.run(W1))\n",
    "        nd_w.append(sess.run(W2))"
   ]
  },
  {
   "cell_type": "code",
   "execution_count": 6,
   "metadata": {},
   "outputs": [
    {
     "name": "stdout",
     "output_type": "stream",
     "text": [
      "2.3374262\n"
     ]
    }
   ],
   "source": [
    "print(np.sqrt(loss.eval(session=sess, feed_dict = {x:x_train_r, y_:y_train_r})))"
   ]
  },
  {
   "cell_type": "code",
   "execution_count": 7,
   "metadata": {},
   "outputs": [
    {
     "data": {
      "text/plain": [
       "[<matplotlib.lines.Line2D at 0x18929f3d250>,\n",
       " <matplotlib.lines.Line2D at 0x18929f3d310>,\n",
       " <matplotlib.lines.Line2D at 0x18929f3d3d0>,\n",
       " <matplotlib.lines.Line2D at 0x18929f3d490>,\n",
       " <matplotlib.lines.Line2D at 0x18929f3d550>,\n",
       " <matplotlib.lines.Line2D at 0x18929f3d610>,\n",
       " <matplotlib.lines.Line2D at 0x18929f3d6d0>,\n",
       " <matplotlib.lines.Line2D at 0x18929f3d790>,\n",
       " <matplotlib.lines.Line2D at 0x18929f3d850>,\n",
       " <matplotlib.lines.Line2D at 0x18929f3d910>,\n",
       " <matplotlib.lines.Line2D at 0x18929f3d9d0>,\n",
       " <matplotlib.lines.Line2D at 0x18929f3da90>,\n",
       " <matplotlib.lines.Line2D at 0x18929f3db50>,\n",
       " <matplotlib.lines.Line2D at 0x18929f3dc10>,\n",
       " <matplotlib.lines.Line2D at 0x18929f3dcd0>,\n",
       " <matplotlib.lines.Line2D at 0x18929f3dd90>,\n",
       " <matplotlib.lines.Line2D at 0x18929f3de50>,\n",
       " <matplotlib.lines.Line2D at 0x18929f3df10>,\n",
       " <matplotlib.lines.Line2D at 0x18929f3dfd0>,\n",
       " <matplotlib.lines.Line2D at 0x18929f440d0>,\n",
       " <matplotlib.lines.Line2D at 0x18929f44190>,\n",
       " <matplotlib.lines.Line2D at 0x18929f44250>,\n",
       " <matplotlib.lines.Line2D at 0x18929f44310>,\n",
       " <matplotlib.lines.Line2D at 0x18929f443d0>]"
      ]
     },
     "execution_count": 7,
     "metadata": {},
     "output_type": "execute_result"
    },
    {
     "data": {
      "image/png": "[encoded data removed]",
      "text/plain": [
       "<Figure size 432x288 with 1 Axes>"
      ]
     },
     "metadata": {
      "needs_background": "light"
     },
     "output_type": "display_data"
    }
   ],
   "source": [
    "d = np.array(np.array(st_w).transpose()[0]).transpose()\n",
    "plt.pyplot.plot(d)\n",
    "plt.pyplot.ylabel('first layer over time')\n",
    "plt.pyplot.plot(d)"
   ]
  },
  {
   "cell_type": "code",
   "execution_count": 8,
   "metadata": {},
   "outputs": [
    {
     "data": {
      "text/plain": [
       "[<matplotlib.lines.Line2D at 0x1892a0495e0>,\n",
       " <matplotlib.lines.Line2D at 0x1892a0496a0>,\n",
       " <matplotlib.lines.Line2D at 0x1892a049760>,\n",
       " <matplotlib.lines.Line2D at 0x1892a049820>,\n",
       " <matplotlib.lines.Line2D at 0x1892a0498e0>,\n",
       " <matplotlib.lines.Line2D at 0x1892a0499a0>,\n",
       " <matplotlib.lines.Line2D at 0x1892a049a60>,\n",
       " <matplotlib.lines.Line2D at 0x1892a049b20>,\n",
       " <matplotlib.lines.Line2D at 0x1892a049be0>,\n",
       " <matplotlib.lines.Line2D at 0x1892a049ca0>,\n",
       " <matplotlib.lines.Line2D at 0x1892a049d60>,\n",
       " <matplotlib.lines.Line2D at 0x1892a049e20>,\n",
       " <matplotlib.lines.Line2D at 0x1892a049ee0>,\n",
       " <matplotlib.lines.Line2D at 0x1892a049fa0>,\n",
       " <matplotlib.lines.Line2D at 0x1892a0510a0>,\n",
       " <matplotlib.lines.Line2D at 0x1892a051160>]"
      ]
     },
     "execution_count": 8,
     "metadata": {},
     "output_type": "execute_result"
    },
    {
     "data": {
      "image/png": "[encoded data removed]",
      "text/plain": [
       "<Figure size 432x288 with 1 Axes>"
      ]
     },
     "metadata": {
      "needs_background": "light"
     },
     "output_type": "display_data"
    }
   ],
   "source": [
    "d = np.array(np.array(nd_w).transpose()[0]).transpose()\n",
    "plt.pyplot.plot(d)\n",
    "plt.pyplot.ylabel('second layer over time')\n",
    "plt.pyplot.plot(d)"
   ]
  },
  {
   "cell_type": "code",
   "execution_count": 9,
   "metadata": {},
   "outputs": [
    {
     "name": "stdout",
     "output_type": "stream",
     "text": [
      "sqaured test error on the red channel: 4.9985843\n",
      "sqaured test error on the green channel: 10.245491\n",
      "sqaured test error on the blue channel: 19.282375\n"
     ]
    }
   ],
   "source": [
    "print(\"sqaured test error on the red channel:\", np.sqrt(loss.eval(session=sess, feed_dict = {x:x_testers[0], y_:y_testers[0]})))\n",
    "print(\"sqaured test error on the green channel:\", np.sqrt(loss.eval(session=sess, feed_dict = {x:x_testers[1], y_:y_testers[1]})))\n",
    "print(\"sqaured test error on the blue channel:\", np.sqrt(loss.eval(session=sess, feed_dict = {x:x_testers[2], y_:y_testers[2]})))"
   ]
  },
  {
   "cell_type": "code",
   "execution_count": 10,
   "metadata": {},
   "outputs": [],
   "source": [
    "arr_r = np.asarray(x_testers[0])\n",
    "arr_g =  np.asarray(x_testers[1])\n",
    "arr_b =  np.asarray(x_testers[2])\n",
    "p_r = sess.run(tf.nn.relu(z2),feed_dict={x:arr_r})\n",
    "p_g = sess.run(tf.nn.relu(z2),feed_dict={x:arr_g})\n",
    "p_b = sess.run(tf.nn.relu(z2),feed_dict={x:arr_b})"
   ]
  },
  {
   "cell_type": "code",
   "execution_count": 11,
   "metadata": {},
   "outputs": [],
   "source": [
    "matrices = []\n",
    "for i in range(len(arr_r)):\n",
    "    temp_r = arr_r[i].tolist()\n",
    "    temp_g = arr_g[i].tolist()\n",
    "    temp_b = arr_b[i].tolist()\n",
    "    temp_r.append(int(p_r[i][0]))\n",
    "    temp_g.append(int(p_g[i][0]))\n",
    "    temp_b.append(int(p_b[i][0]))\n",
    "    util_functions.swap(temp_r,INDEX_TRGT,INDEX_END)\n",
    "    util_functions.swap(temp_g,INDEX_TRGT,INDEX_END)\n",
    "    util_functions.swap(temp_b,INDEX_TRGT,INDEX_END)\n",
    "    k = 0\n",
    "    mat = []\n",
    "    for j in range(0,5):\n",
    "        matrice = []\n",
    "        for m in range(0,5):\n",
    "            pixel = [temp_r[k],temp_g[k],temp_b[k]]\n",
    "            k+=1\n",
    "            matrice.append(pixel)\n",
    "        mat.append(matrice)\n",
    "    matrix = np.asarray(mat, dtype=np.uint8)\n",
    "    matrices.append(matrix)"
   ]
  },
  {
   "cell_type": "code",
   "execution_count": 12,
   "metadata": {},
   "outputs": [
    {
     "name": "stdout",
     "output_type": "stream",
     "text": [
      "data_size: 6400\n"
     ]
    }
   ],
   "source": [
    "data = matrices\n",
    "i = 0\n",
    "lines = []\n",
    "size = 5\n",
    "data_size = (len(data))\n",
    "\n",
    "for _ in range(80):\n",
    "    concat = data[i]\n",
    "    i+=1\n",
    "    for _ in range(1,80):\n",
    "        temp = data[i]\n",
    "        concat = np.concatenate((concat, temp), axis=1)\n",
    "        i += 1\n",
    "    lines.append(concat)\n",
    "\n",
    "concat = lines[0]\n",
    "\n",
    "for i in range(1, len(lines)):\n",
    "    concat = np.concatenate((concat, lines[i]), axis=0)\n",
    "\n",
    "im = mg.fromarray(concat,'RGB')\n",
    "im.save(\"images/output_image_p2.jpeg\")"
   ]
  }
 ],
 "metadata": {
  "interpreter": {
   "hash": "b3ba2566441a7c06988d0923437866b63cedc61552a5af99d1f4fb67d367b25f"
  },
  "kernelspec": {
   "display_name": "Python 3",
   "language": "python",
   "name": "python3"
  },
  "language_info": {
   "codemirror_mode": {
    "name": "ipython",
    "version": 3
   },
   "file_extension": ".py",
   "mimetype": "text/x-python",
   "name": "python",
   "nbconvert_exporter": "python",
   "pygments_lexer": "ipython3",
   "version": "3.8.8"
  }
 },
 "nbformat": 4,
 "nbformat_minor": 2
}
