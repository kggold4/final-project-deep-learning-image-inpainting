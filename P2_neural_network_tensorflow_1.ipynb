{
 "cells": [
  {
   "cell_type": "markdown",
   "metadata": {},
   "source": [
    "# Neural Network for inpainting one pixel an image using tensorflow 1"
   ]
  },
  {
   "cell_type": "code",
   "execution_count": 7,
   "metadata": {},
   "outputs": [],
   "source": [
    "import tensorflow.compat.v1 as tf\n",
    "tf.disable_v2_behavior()\n",
    "import numpy as np\n",
    "import matplotlib as plt\n",
    "from data_generators import gen_frm_pic\n",
    "from util_functions import util_functions\n",
    "\n",
    "INDEX_TRGT = 12\n",
    "INDEX_END = 20\n",
    "ROW_SHAPE = (1,25)"
   ]
  },
  {
   "cell_type": "markdown",
   "metadata": {},
   "source": [
    "## Generate images data"
   ]
  },
  {
   "cell_type": "code",
   "execution_count": 8,
   "metadata": {},
   "outputs": [],
   "source": [
    "data,data_test = gen_frm_pic.generate_5()"
   ]
  },
  {
   "cell_type": "markdown",
   "metadata": {},
   "source": [
    "## Split each pixel data to RGB channels"
   ]
  },
  {
   "cell_type": "code",
   "execution_count": 12,
   "metadata": {},
   "outputs": [
    {
     "name": "stdout",
     "output_type": "stream",
     "text": [
      "[11 13  0]\n"
     ]
    },
    {
     "ename": "ValueError",
     "evalue": "cannot reshape array of size 15 into shape (1,25)",
     "output_type": "error",
     "traceback": [
      "\u001b[1;31m---------------------------------------------------------------------------\u001b[0m",
      "\u001b[1;31mValueError\u001b[0m                                Traceback (most recent call last)",
      "\u001b[1;32m<ipython-input-12-592300966cc5>\u001b[0m in \u001b[0;36m<module>\u001b[1;34m\u001b[0m\n\u001b[0;32m      9\u001b[0m     \u001b[1;32mfor\u001b[0m \u001b[0mi\u001b[0m \u001b[1;32min\u001b[0m \u001b[0mrange\u001b[0m\u001b[1;33m(\u001b[0m\u001b[1;36m3\u001b[0m\u001b[1;33m)\u001b[0m\u001b[1;33m:\u001b[0m\u001b[1;33m\u001b[0m\u001b[1;33m\u001b[0m\u001b[0m\n\u001b[0;32m     10\u001b[0m         \u001b[1;32mif\u001b[0m \u001b[0mi\u001b[0m \u001b[1;33m==\u001b[0m \u001b[1;36m0\u001b[0m\u001b[1;33m:\u001b[0m\u001b[1;33m\u001b[0m\u001b[1;33m\u001b[0m\u001b[0m\n\u001b[1;32m---> 11\u001b[1;33m             \u001b[0mr_temp\u001b[0m \u001b[1;33m=\u001b[0m \u001b[0mimage\u001b[0m\u001b[1;33m[\u001b[0m\u001b[0mi\u001b[0m\u001b[1;33m]\u001b[0m\u001b[1;33m.\u001b[0m\u001b[0mreshape\u001b[0m\u001b[1;33m(\u001b[0m\u001b[0mROW_SHAPE\u001b[0m\u001b[1;33m)\u001b[0m\u001b[1;33m[\u001b[0m\u001b[1;36m0\u001b[0m\u001b[1;33m]\u001b[0m\u001b[1;33m\u001b[0m\u001b[1;33m\u001b[0m\u001b[0m\n\u001b[0m\u001b[0;32m     12\u001b[0m             \u001b[0mutil_functions\u001b[0m\u001b[1;33m.\u001b[0m\u001b[0mswap\u001b[0m\u001b[1;33m(\u001b[0m\u001b[0mr_temp\u001b[0m\u001b[1;33m,\u001b[0m \u001b[0mINDEX_TRGT\u001b[0m\u001b[1;33m,\u001b[0m \u001b[0mINDEX_END\u001b[0m\u001b[1;33m)\u001b[0m\u001b[1;33m\u001b[0m\u001b[1;33m\u001b[0m\u001b[0m\n\u001b[0;32m     13\u001b[0m             \u001b[0mr_data\u001b[0m\u001b[1;33m.\u001b[0m\u001b[0mappend\u001b[0m\u001b[1;33m(\u001b[0m\u001b[0mr_temp\u001b[0m\u001b[1;33m)\u001b[0m\u001b[1;33m\u001b[0m\u001b[1;33m\u001b[0m\u001b[0m\n",
      "\u001b[1;31mValueError\u001b[0m: cannot reshape array of size 15 into shape (1,25)"
     ]
    }
   ],
   "source": [
    "# red channel data\n",
    "r_data = []\n",
    "# green channel data\n",
    "g_data = []\n",
    "# blue channel data\n",
    "b_data = []\n",
    "for image in data:\n",
    "    print(image[0][0])\n",
    "    for i in range(3):\n",
    "        if i == 0:\n",
    "            r_temp = image[i].reshape(ROW_SHAPE)[0]\n",
    "            util_functions.swap(r_temp, INDEX_TRGT, INDEX_END)\n",
    "            r_data.append(r_temp)\n",
    "\n",
    "        if i == 1:\n",
    "            g_temp = image[i].reshape(ROW_SHAPE)[0]\n",
    "            util_functions.swap(g_temp, INDEX_TRGT, INDEX_END)\n",
    "            g_data.append(g_temp)\n",
    "            \n",
    "        if i == 2:\n",
    "            b_temp = image[i].reshape(ROW_SHAPE)[0]\n",
    "            util_functions.swap(b_temp, INDEX_TRGT, INDEX_END)\n",
    "            b_data.append(b_temp)\n",
    "r_test = []\n",
    "g_test = []\n",
    "b_test = []\n",
    "for image in data_test:\n",
    "    for i in range(5):\n",
    "        if i == 0:\n",
    "            r_temp = image[i].reshape(ROW_SHAPE)[0]\n",
    "            util_functions.swap(r_temp, INDEX_TRGT, INDEX_END)\n",
    "            r_test.append(r_temp)\n",
    "\n",
    "        if i == 1:\n",
    "            g_temp = image[i].reshape(ROW_SHAPE)[0]\n",
    "            util_functions.swap(g_temp, INDEX_TRGT, INDEX_END)\n",
    "            g_test.append(g_temp)\n",
    "            \n",
    "        if i == 2:\n",
    "            b_temp = image[i].reshape(ROW_SHAPE)[0]\n",
    "            util_functions.swap(b_temp, INDEX_TRGT, INDEX_END)\n",
    "            b_test.append(b_temp)\n",
    "data = [r_data, g_data, b_data]"
   ]
  },
  {
   "cell_type": "markdown",
   "metadata": {},
   "source": [
    "## Split data to train, test and vailation data"
   ]
  },
  {
   "cell_type": "code",
   "execution_count": null,
   "metadata": {},
   "outputs": [],
   "source": [
    "# for red channel\n",
    "train_r_data = r_data[0:1000]\n",
    "test_r_data = r_data[700:1000]\n",
    "\n",
    "# for green channel\n",
    "train_g_data = g_data[0:700]\n",
    "test_g_data = r_data[700:1000]\n",
    "\n",
    "# for blue channel\n",
    "train_b_data = b_data[0:700]\n",
    "test_b_data = b_data[700:1000]"
   ]
  },
  {
   "cell_type": "code",
   "execution_count": null,
   "metadata": {},
   "outputs": [],
   "source": [
    "# assuming 3 regressors will give good accuracy\n",
    "# prepering the data for each regressor\n",
    "x_train_r = []\n",
    "x_train_g = []\n",
    "x_train_b = []\n",
    "\n",
    "y_train_r = []\n",
    "y_train_g = []\n",
    "y_train_b = []\n",
    "\n",
    "x_test_r = []\n",
    "x_test_g = []\n",
    "x_test_b = []\n",
    "\n",
    "y_test_r = []\n",
    "y_test_g = []\n",
    "y_test_b = []\n",
    "\n",
    "for i in range(1000):\n",
    "    \n",
    "    x_test_r.append(r_test[i][0:INDEX_END].tolist())\n",
    "    x_test_g.append(g_test[i][0:INDEX_END].tolist())\n",
    "    x_test_b.append(b_test[i][0:INDEX_END].tolist())\n",
    "\n",
    "    y_test_r.append([r_test[i][INDEX_END]])\n",
    "    y_test_g.append([g_test[i][INDEX_END]])\n",
    "    y_test_b.append([b_test[i][INDEX_END]])\n",
    "\n",
    "for i in range(700):\n",
    "    x_train_r.append(train_r_data[i][0:INDEX_END].tolist())\n",
    "    y_train_r.append([train_r_data[i][INDEX_END]])\n",
    "x_testers = [x_test_r,x_test_g,x_test_b]\n",
    "y_testers = [y_test_r,y_test_g,y_test_b]"
   ]
  },
  {
   "cell_type": "markdown",
   "metadata": {},
   "source": [
    "## Model"
   ]
  },
  {
   "cell_type": "code",
   "execution_count": null,
   "metadata": {},
   "outputs": [],
   "source": [
    "features = 24 # each pixel\n",
    "hidden_layer_nodes = 15\n",
    "loss_plot = []\n",
    "x = tf.placeholder(tf.float32, [None, features])\n",
    "y_ = tf.placeholder(tf.float32, [None, 1])\n",
    "W1 = tf.Variable(tf.truncated_normal([features, hidden_layer_nodes]))\n",
    "b1 = tf.Variable(tf.constant(0.1, shape=[hidden_layer_nodes]))\n",
    "z1 = tf.add(tf.matmul(x,W1),b1)\n",
    "a1 = tf.nn.relu(z1) # using relu function\n",
    "W2 = tf.Variable(tf.truncated_normal([hidden_layer_nodes,1]))\n",
    "b2 = tf.Variable(0.)\n",
    "z2 = tf.matmul(a1,W2) + b2\n",
    "st_w = []\n",
    "nd_w = []\n",
    "\n",
    "loss = tf.reduce_mean(tf.pow(z2 - y_, 2))\n",
    "update = tf.train.AdamOptimizer(0.001).minimize(loss) # using adam optimizer\n",
    "\n",
    "sess = tf.Session()\n",
    "sess.run(tf.global_variables_initializer())\n",
    "\n",
    "for i in range(0,10000):\n",
    "        sess.run(update, feed_dict = {x:x_train_r, y_:y_train_r})\n",
    "        st_w.append(sess.run(W1))\n",
    "        nd_w.append(sess.run(W2))\n",
    "        if i > 1000:\n",
    "            loss_plot.append(loss.eval(session=sess, feed_dict = {x:x_train_r, y_:y_train_r}))"
   ]
  },
  {
   "cell_type": "code",
   "execution_count": null,
   "metadata": {},
   "outputs": [],
   "source": [
    "print(np.sqrt(loss.eval(session=sess, feed_dict = {x:x_train_r, y_:y_train_r})))"
   ]
  },
  {
   "cell_type": "code",
   "execution_count": null,
   "metadata": {},
   "outputs": [],
   "source": [
    "plt.pyplot.plot(loss_plot)"
   ]
  },
  {
   "cell_type": "markdown",
   "metadata": {},
   "source": [
    "first layer weights over time"
   ]
  },
  {
   "cell_type": "code",
   "execution_count": null,
   "metadata": {},
   "outputs": [],
   "source": [
    "d = np.array(np.array(st_w).transpose()[0]).transpose()\n",
    "print(d[900])\n",
    "plt.pyplot.plot(d)\n",
    "plt.pyplot.ylabel('first layer over time')\n",
    "plt.pyplot.plot(d)"
   ]
  },
  {
   "cell_type": "code",
   "execution_count": null,
   "metadata": {},
   "outputs": [],
   "source": [
    "d = np.array(np.array(nd_w).transpose()[0]).transpose()\n",
    "print(d[900])\n",
    "plt.pyplot.plot(d)\n",
    "plt.pyplot.ylabel('first layer over time')\n",
    "plt.pyplot.plot(d)"
   ]
  },
  {
   "cell_type": "code",
   "execution_count": null,
   "metadata": {},
   "outputs": [],
   "source": [
    "test_x_r = []\n",
    "test_y_r = []\n",
    "for i in range(len(test_r_data)):\n",
    "    test_x_r.append(test_r_data[i][0:INDEX_END].tolist())\n",
    "    test_y_r.append([test_r_data[i][INDEX_END].tolist()])\n",
    "test_x_g = []\n",
    "test_y_g = []\n",
    "for i in range(len(test_g_data)):\n",
    "    test_x_g.append(test_g_data[i][0:INDEX_END].tolist())\n",
    "    test_y_g.append([test_g_data[i][INDEX_END].tolist()])\n",
    "test_x_b = []\n",
    "test_y_b = []\n",
    "for i in range(len(test_g_data)):\n",
    "    test_x_b.append(test_b_data[i][0:INDEX_END].tolist())\n",
    "    test_y_b.append([test_b_data[i][INDEX_END].tolist()])\n",
    "    \n",
    "print(\"sqaured test error on the red channel:\", np.sqrt(loss.eval(session=sess, feed_dict = {x:x_testers[0], y_:y_testers[0]})))\n",
    "print(\"sqaured test error on the red channel:\", np.sqrt(loss.eval(session=sess, feed_dict = {x:x_testers[1], y_:y_testers[1]})))\n",
    "print(\"sqaured test error on the red channel:\", np.sqrt(loss.eval(session=sess, feed_dict = {x:x_testers[2], y_:y_testers[2]})))"
   ]
  }
 ],
 "metadata": {
  "interpreter": {
   "hash": "b3ba2566441a7c06988d0923437866b63cedc61552a5af99d1f4fb67d367b25f"
  },
  "kernelspec": {
   "display_name": "Python 3",
   "language": "python",
   "name": "python3"
  },
  "language_info": {
   "codemirror_mode": {
    "name": "ipython",
    "version": 3
   },
   "file_extension": ".py",
   "mimetype": "text/x-python",
   "name": "python",
   "nbconvert_exporter": "python",
   "pygments_lexer": "ipython3",
   "version": "3.8.5"
  }
 },
 "nbformat": 4,
 "nbformat_minor": 2
}
