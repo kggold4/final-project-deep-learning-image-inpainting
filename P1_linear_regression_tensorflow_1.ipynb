{
 "cells": [
  {
   "cell_type": "markdown",
   "metadata": {},
   "source": [
    "# Linear regression for inpainting one pixel an image using tensorflow 1"
   ]
  },
  {
   "cell_type": "code",
   "execution_count": 1,
   "metadata": {},
   "outputs": [
    {
     "name": "stdout",
     "output_type": "stream",
     "text": [
      "WARNING:tensorflow:From C:\\ProgramData\\Anaconda3\\lib\\site-packages\\tensorflow\\python\\compat\\v2_compat.py:96: disable_resource_variables (from tensorflow.python.ops.variable_scope) is deprecated and will be removed in a future version.\n",
      "Instructions for updating:\n",
      "non-resource variables are not supported in the long term\n"
     ]
    }
   ],
   "source": [
    "import tensorflow.compat.v1 as tf\n",
    "tf.disable_v2_behavior()\n",
    "import numpy as np\n",
    "import matplotlib as plt\n",
    "from data_generators import gen_frm_pic\n",
    "from util_functions import util_functions\n",
    "\n",
    "INDEX_TRGT = 4\n",
    "INDEX_END = 8\n",
    "ROW_SHAPE = (1,9)"
   ]
  },
  {
   "cell_type": "markdown",
   "metadata": {},
   "source": [
    "## Generate images data"
   ]
  },
  {
   "cell_type": "code",
   "execution_count": 2,
   "metadata": {},
   "outputs": [
    {
     "data": {
      "text/plain": [
       "array([[[11, 13,  0],\n",
       "        [25, 26,  0],\n",
       "        [48, 49,  7]],\n",
       "\n",
       "       [[25, 27,  5],\n",
       "        [40, 39,  8],\n",
       "        [55, 56, 12]],\n",
       "\n",
       "       [[42, 42, 16],\n",
       "        [55, 55, 21],\n",
       "        [63, 62, 18]]], dtype=uint8)"
      ]
     },
     "execution_count": 2,
     "metadata": {},
     "output_type": "execute_result"
    }
   ],
   "source": [
    "data,data_test = gen_frm_pic.generate()\n",
    "data[0]"
   ]
  },
  {
   "cell_type": "markdown",
   "metadata": {},
   "source": [
    "## Split each pixel data to RGB channels"
   ]
  },
  {
   "cell_type": "code",
   "execution_count": 3,
   "metadata": {},
   "outputs": [],
   "source": [
    "# red channel data\n",
    "r_data = []\n",
    "\n",
    "# green channel data\n",
    "g_data = []\n",
    "\n",
    "# blue channel data\n",
    "b_data = []\n",
    "\n",
    "\n",
    "for image in data:\n",
    "    \n",
    "    r_temp=[]\n",
    "    b_temp=[]\n",
    "    g_temp=[]\n",
    "    for i in range(3):\n",
    "        for j in range(3):\n",
    "            r_temp.append(image[i][j][0])\n",
    "            b_temp.append(image[i][j][1])\n",
    "            g_temp.append(image[i][j][2])\n",
    "    r_array=np.asarray(r_temp)\n",
    "    g_array=np.asarray(r_temp)\n",
    "    b_array=np.asarray(r_temp)\n",
    "    util_functions.swap(r_array,INDEX_TRGT,INDEX_END)\n",
    "    util_functions.swap(g_array,INDEX_TRGT,INDEX_END)\n",
    "    util_functions.swap(b_array,INDEX_TRGT,INDEX_END)\n",
    "    r_data.append(r_array)\n",
    "    g_data.append(g_array)\n",
    "    b_data.append(b_array)\n",
    "    \n",
    "r_test = []\n",
    "g_test = []\n",
    "b_test = []\n",
    "\n",
    "for image in data_test:\n",
    "    r_temp=[]\n",
    "    b_temp=[]\n",
    "    g_temp=[]\n",
    "    for i in range(3):\n",
    "        for j in range(3):\n",
    "            r_temp.append(image[i][j][0])\n",
    "            b_temp.append(image[i][j][1])\n",
    "            g_temp.append(image[i][j][2])\n",
    "    r_array=np.asarray(r_temp)\n",
    "    g_array=np.asarray(b_temp)\n",
    "    b_array=np.asarray(g_temp)\n",
    "    util_functions.swap(r_array,INDEX_TRGT,INDEX_END)\n",
    "    util_functions.swap(g_array,INDEX_TRGT,INDEX_END)\n",
    "    util_functions.swap(b_array,INDEX_TRGT,INDEX_END)\n",
    "    r_test.append(r_array)\n",
    "    g_test.append(g_array)\n",
    "    b_test.append(b_array)\n",
    "    \n",
    "data = [r_data, g_data, b_data]\n",
    "test = [r_test, g_test, b_test]"
   ]
  },
  {
   "cell_type": "markdown",
   "metadata": {},
   "source": [
    "## Split data to train, test and vailation data"
   ]
  },
  {
   "cell_type": "code",
   "execution_count": 4,
   "metadata": {},
   "outputs": [],
   "source": [
    "# for red channel\n",
    "train_r_data = r_data[0:600]\n",
    "valid_r_data = r_data[600:800]\n",
    "\n",
    "# for green channel\n",
    "train_g_data = g_data[0:600]\n",
    "valid_g_data = r_data[600:800]\n",
    "\n",
    "# for blue channel\n",
    "train_b_data = b_data[0:600]\n",
    "valid_b_data = b_data[600:800]\n"
   ]
  },
  {
   "cell_type": "code",
   "execution_count": 5,
   "metadata": {},
   "outputs": [],
   "source": [
    "# prepering the data\n",
    "x_train_r = []\n",
    "x_train_g = []\n",
    "x_train_b = []\n",
    "\n",
    "y_train_r = []\n",
    "y_train_g = []\n",
    "y_train_b = []\n",
    "\n",
    "x_test_r = []\n",
    "x_test_g = []\n",
    "x_test_b = []\n",
    "\n",
    "y_test_r = []\n",
    "y_test_g = []\n",
    "y_test_b = []\n",
    "\n",
    "for i in range(600):\n",
    "    \n",
    "    x_train_r.append(train_r_data[i][0:INDEX_END].tolist())\n",
    "    y_train_r.append([train_r_data[i][INDEX_END]])\n",
    "for i in range(len(r_test)):\n",
    "    \n",
    "    x_test_r.append(r_test[i][0:INDEX_END].tolist())\n",
    "    x_test_g.append(g_test[i][0:INDEX_END].tolist())\n",
    "    x_test_b.append(b_test[i][0:INDEX_END].tolist())\n",
    "\n",
    "    y_test_r.append([r_test[i][INDEX_END]])\n",
    "    y_test_g.append([g_test[i][INDEX_END]])\n",
    "    y_test_b.append([b_test[i][INDEX_END]])\n",
    "\n",
    "x_trainers = [x_train_r,x_train_g,x_train_b]\n",
    "y_trainers = [y_train_r,y_train_g,y_train_b]\n",
    "x_testers = [x_test_r,x_test_g,x_test_b]\n",
    "y_testers = [y_test_r,y_test_g,y_test_b]\n"
   ]
  },
  {
   "cell_type": "markdown",
   "metadata": {},
   "source": [
    "## Model"
   ]
  },
  {
   "cell_type": "code",
   "execution_count": 6,
   "metadata": {},
   "outputs": [],
   "source": [
    "data_x = np.array(x_trainers[0][0:1000])\n",
    "data_y = np.array(y_trainers[0][0:1000])\n",
    "plot_loss = []\n",
    "features = 8\n",
    "\n",
    "x = tf.placeholder(tf.float32, [None, features])\n",
    "y_ = tf.placeholder(tf.float32, [None, 1])\n",
    "W = tf.Variable(tf.zeros([features, 1]))\n",
    "b = tf.Variable(tf.zeros([1]))\n",
    "y = tf.matmul(x,W) + b\n",
    "loss = tf.reduce_mean(tf.pow(y - y_, 2))\n",
    "update = tf.train.GradientDescentOptimizer(0.00001).minimize(loss) \n",
    "sess = tf.Session()\n",
    "sess.run(tf.global_variables_initializer())\n",
    "\n",
    "weights = []"
   ]
  },
  {
   "cell_type": "code",
   "execution_count": 7,
   "metadata": {},
   "outputs": [
    {
     "data": {
      "text/plain": [
       "array([[11, 25, 48, 25, 63, 55, 42, 55],\n",
       "       [68, 73, 66, 66, 65, 65, 66, 71],\n",
       "       [56, 47, 41, 55, 33, 37, 54, 44],\n",
       "       [37, 33, 30, 32, 19, 23, 27, 21],\n",
       "       [32, 27, 20, 22, 15, 16, 16, 14],\n",
       "       [17, 17, 18, 17, 26, 22, 18, 22],\n",
       "       [19, 20, 16, 24, 23, 20, 28, 28],\n",
       "       [17, 20, 22, 19, 26, 22, 21, 22],\n",
       "       [20, 18, 20, 25, 26, 22, 31, 29],\n",
       "       [25, 40, 71, 23, 27, 47, 25, 22]])"
      ]
     },
     "execution_count": 7,
     "metadata": {},
     "output_type": "execute_result"
    }
   ],
   "source": [
    "data_x[0:10]"
   ]
  },
  {
   "cell_type": "markdown",
   "metadata": {},
   "source": [
    "## Print loss"
   ]
  },
  {
   "cell_type": "code",
   "execution_count": 8,
   "metadata": {},
   "outputs": [
    {
     "name": "stdout",
     "output_type": "stream",
     "text": [
      "loss: 1.9817472\n"
     ]
    }
   ],
   "source": [
    "for i in range(0,10000):\n",
    "    sess.run(update, feed_dict = {x:data_x, y_:data_y})\n",
    "    weights.append(sess.run(W))\n",
    "    if i > 40:\n",
    "        plot_loss.append(loss.eval(session=sess, feed_dict = {x:data_x, y_:data_y}))\n",
    "print('loss:', np.sqrt(loss.eval(session=sess, feed_dict = {x:data_x, y_:data_y})))"
   ]
  },
  {
   "cell_type": "markdown",
   "metadata": {},
   "source": [
    "The following is a graph of the loss function over the training"
   ]
  },
  {
   "cell_type": "code",
   "execution_count": 9,
   "metadata": {},
   "outputs": [
    {
     "data": {
      "text/plain": [
       "[<matplotlib.lines.Line2D at 0x283237c8cd0>]"
      ]
     },
     "execution_count": 9,
     "metadata": {},
     "output_type": "execute_result"
    },
    {
     "data": {
      "image/png": "[encoded data removed]",
      "text/plain": [
       "<Figure size 432x288 with 1 Axes>"
      ]
     },
     "metadata": {
      "needs_background": "light"
     },
     "output_type": "display_data"
    }
   ],
   "source": [
    "plt.pyplot.ylabel('loss over time')\n",
    "plt.pyplot.plot(plot_loss)"
   ]
  },
  {
   "cell_type": "code",
   "execution_count": 10,
   "metadata": {},
   "outputs": [
    {
     "name": "stdout",
     "output_type": "stream",
     "text": [
      "[0.03662412 0.21732414 0.02076254 0.23551531 0.0385844  0.2385126\n",
      " 0.03095188 0.18954639]\n"
     ]
    },
    {
     "data": {
      "text/plain": [
       "[<matplotlib.lines.Line2D at 0x28328eb4430>,\n",
       " <matplotlib.lines.Line2D at 0x28328eb44f0>,\n",
       " <matplotlib.lines.Line2D at 0x28328e78af0>,\n",
       " <matplotlib.lines.Line2D at 0x28328eb4640>,\n",
       " <matplotlib.lines.Line2D at 0x28328eb4700>,\n",
       " <matplotlib.lines.Line2D at 0x28328eb47c0>,\n",
       " <matplotlib.lines.Line2D at 0x28328eb4880>,\n",
       " <matplotlib.lines.Line2D at 0x28328eb4940>]"
      ]
     },
     "execution_count": 10,
     "metadata": {},
     "output_type": "execute_result"
    },
    {
     "data": {
      "image/png": "[encoded data removed]",
      "text/plain": [
       "<Figure size 432x288 with 1 Axes>"
      ]
     },
     "metadata": {
      "needs_background": "light"
     },
     "output_type": "display_data"
    }
   ],
   "source": [
    "d = np.array(np.array(weights).transpose()[0]).transpose()\n",
    "print(d[900])\n",
    "plt.pyplot.plot(d)\n",
    "plt.pyplot.ylabel('w over time')\n",
    "plt.pyplot.plot(d)"
   ]
  },
  {
   "cell_type": "markdown",
   "metadata": {},
   "source": [
    "## Using the validation data to print loss (Squared Vailidation Error)"
   ]
  },
  {
   "cell_type": "code",
   "execution_count": 11,
   "metadata": {},
   "outputs": [
    {
     "name": "stdout",
     "output_type": "stream",
     "text": [
      "sqaured validation error on the red channel: 1.6613697\n",
      "sqaured validation error on the green channel: 1.6613697\n",
      "sqaured validation error on the blue channel: 1.6613697\n"
     ]
    }
   ],
   "source": [
    "valid_x_r = []\n",
    "valid_y_r = []\n",
    "for i in range(len(valid_r_data)):\n",
    "    valid_x_r.append(valid_r_data[i][0:INDEX_END].tolist())\n",
    "    valid_y_r.append([valid_r_data[i][INDEX_END].tolist()])\n",
    "valid_x_g = []\n",
    "valid_y_g = []\n",
    "for i in range(len(valid_g_data)):\n",
    "    valid_x_g.append(valid_g_data[i][0:INDEX_END].tolist())\n",
    "    valid_y_g.append([valid_g_data[i][INDEX_END].tolist()])\n",
    "valid_x_b = []\n",
    "valid_y_b = []\n",
    "for i in range(len(valid_g_data)):\n",
    "    valid_x_b.append(valid_b_data[i][0:INDEX_END].tolist())\n",
    "    valid_y_b.append([valid_b_data[i][INDEX_END].tolist()])\n",
    "\n",
    "print(\"sqaured validation error on the red channel:\", np.sqrt(loss.eval(session=sess, feed_dict = {x:valid_x_r, y_:valid_y_r})))\n",
    "print(\"sqaured validation error on the green channel:\", np.sqrt(loss.eval(session=sess, feed_dict = {x:valid_x_g, y_:valid_y_g})))\n",
    "print(\"sqaured validation error on the blue channel:\", np.sqrt(loss.eval(session=sess, feed_dict = {x:valid_x_b, y_:valid_y_b})))"
   ]
  },
  {
   "cell_type": "code",
   "execution_count": 12,
   "metadata": {},
   "outputs": [
    {
     "name": "stdout",
     "output_type": "stream",
     "text": [
      "sqaured test error on the red channel: 5.3411293\n",
      "sqaured test error on the green channel: 5.318403\n",
      "sqaured test error on the blue channel: 5.321884\n"
     ]
    }
   ],
   "source": [
    "\n",
    "print(\"sqaured test error on the red channel:\", np.sqrt(loss.eval(session=sess, feed_dict = {x:x_testers[0], y_:y_testers[0]})))\n",
    "print(\"sqaured test error on the green channel:\", np.sqrt(loss.eval(session=sess, feed_dict = {x:x_testers[1], y_:y_testers[1]})))\n",
    "print(\"sqaured test error on the blue channel:\", np.sqrt(loss.eval(session=sess, feed_dict = {x:x_testers[2], y_:y_testers[2]})))\n",
    "\n"
   ]
  },
  {
   "cell_type": "code",
   "execution_count": 13,
   "metadata": {},
   "outputs": [],
   "source": [
    "\n",
    "# predicting for the test set\n",
    "x_testers[0][0] = x_testers[0][0][0:8]\n",
    "x_testers[1][0] = x_testers[1][0][0:8]\n",
    "x_testers[2][0] = x_testers[2][0][0:8]\n",
    "arr_r = np.asarray(x_testers[0])\n",
    "arr_g =  np.asarray(x_testers[1])\n",
    "arr_b =  np.asarray(x_testers[2])\n",
    "p_r = sess.run(tf.nn.relu(np.matmul(arr_r,sess.run(W))+sess.run(b)))\n",
    "p_g = sess.run(tf.nn.relu(np.matmul(arr_g,sess.run(W))+sess.run(b)))\n",
    "p_b = sess.run(tf.nn.relu(np.matmul(arr_b,sess.run(W))+sess.run(b)))\n"
   ]
  },
  {
   "cell_type": "code",
   "execution_count": 14,
   "metadata": {},
   "outputs": [
    {
     "data": {
      "text/plain": [
       "array([[[ 42,  35,  29],\n",
       "        [103,  76,  45],\n",
       "        [185, 164, 132]],\n",
       "\n",
       "       [[ 42,  35,  29],\n",
       "        [103,  76,  45],\n",
       "        [185, 164, 132]],\n",
       "\n",
       "       [[ 42,  35,  29],\n",
       "        [103,  76,  45],\n",
       "        [185, 164, 132]]], dtype=uint8)"
      ]
     },
     "execution_count": 14,
     "metadata": {},
     "output_type": "execute_result"
    }
   ],
   "source": [
    "matrices = []\n",
    "for i in range(len(arr_r)):\n",
    "    temp_r = arr_r[i].tolist()\n",
    "    temp_g = arr_g[i].tolist()\n",
    "    temp_b = arr_b[i].tolist()\n",
    "    temp_r.append(int(p_r[i][0]))\n",
    "    temp_g.append(int(p_g[i][0]))\n",
    "    temp_b.append(int(p_b[i][0]))\n",
    "    util_functions.swap(temp_r,INDEX_TRGT,INDEX_END)\n",
    "    util_functions.swap(temp_g,INDEX_TRGT,INDEX_END)\n",
    "    util_functions.swap(temp_b,INDEX_TRGT,INDEX_END)\n",
    "    temp_r = np.reshape(np.asarray(temp_r,np.uint8),(3,3))\n",
    "    temp_g = np.reshape(np.asarray(temp_r,np.uint8),(3,3))\n",
    "    temp_b = np.reshape(np.asarray(temp_r,np.uint8),(3,3))\n",
    "    matrix = np.asarray([temp_r,temp_g,temp_b])\n",
    "    matrices.append(matrix)\n",
    "len(matrices)\n",
    "matrices[0]\n",
    "    "
   ]
  },
  {
   "cell_type": "markdown",
   "metadata": {},
   "source": [
    "## Saving result to an images"
   ]
  },
  {
   "cell_type": "code",
   "execution_count": 15,
   "metadata": {},
   "outputs": [],
   "source": [
    "from PIL import Image as mg\n",
    "\n",
    "dt = matrices\n",
    "i = 0\n",
    "lines = []\n",
    "i += 1\n",
    "size = len(data[0][0])\n",
    "data_size = 400\n",
    "size = 3\n",
    "\n",
    "for _ in range(1, data_size, size):\n",
    "    concat = dt[i]\n",
    "    for _ in range(1, data_size + size, size):\n",
    "        pixel = dt[i]\n",
    "        concat = np.concatenate((concat, pixel), axis=1)\n",
    "        i += 1\n",
    "    lines.append(concat)\n",
    "\n",
    "concat = lines[0]\n",
    "for i in range(1, len(lines)):\n",
    "    concat = np.concatenate((concat, lines[i]), axis=0)\n",
    "\n",
    "im = mg.fromarray(concat,'RGB')\n",
    "im.save(\"images/output_image_p1.jpeg\")"
   ]
  }
 ],
 "metadata": {
  "interpreter": {
   "hash": "b3ba2566441a7c06988d0923437866b63cedc61552a5af99d1f4fb67d367b25f"
  },
  "kernelspec": {
   "display_name": "Python 3",
   "language": "python",
   "name": "python3"
  },
  "language_info": {
   "codemirror_mode": {
    "name": "ipython",
    "version": 3
   },
   "file_extension": ".py",
   "mimetype": "text/x-python",
   "name": "python",
   "nbconvert_exporter": "python",
   "pygments_lexer": "ipython3",
   "version": "3.8.8"
  }
 },
 "nbformat": 4,
 "nbformat_minor": 2
}
