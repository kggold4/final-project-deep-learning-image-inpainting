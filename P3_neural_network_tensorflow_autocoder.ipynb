{
  "cells": [
    {
      "cell_type": "code",
      "execution_count": null,
      "metadata": {
        "id": "5o8h4KHFoSCk"
      },
      "outputs": [],
      "source": [
        "# main libraries\n",
        "import os\n",
        "import warnings\n",
        "warnings.filterwarnings('ignore')\n",
        "warnings.simplefilter('ignore')\n",
        "\n",
        "# graphical libraries\n",
        "from matplotlib import pyplot as plt\n",
        "%matplotlib inline\n",
        "from PIL import Image as mg\n",
        "import cv2\n",
        "\n",
        "# data science & deep learning libraries\n",
        "import numpy as np\n",
        "import tensorflow as tf\n",
        "\n"
      ],
      "id": "5o8h4KHFoSCk"
    },
    {
      "cell_type": "code",
      "execution_count": null,
      "metadata": {
        "id": "C6f1fXjZoSCq"
      },
      "outputs": [],
      "source": [
        "# constants\n",
        "\n",
        "WILD_PATH = 'wild'\n",
        "IMAGE_SIZE = 128"
      ],
      "id": "C6f1fXjZoSCq"
    },
    {
      "cell_type": "code",
      "execution_count": null,
      "metadata": {
        "id": "zzIkBr-R1632"
      },
      "outputs": [],
      "source": [
        "from google.colab import drive\n",
        "drive.mount('/content/drive')"
      ],
      "id": "zzIkBr-R1632"
    },
    {
      "cell_type": "markdown",
      "metadata": {
        "id": "xNDGj8XPoSCt"
      },
      "source": [
        "### Getting Images"
      ],
      "id": "xNDGj8XPoSCt"
    },
    {
      "cell_type": "code",
      "execution_count": null,
      "metadata": {
        "id": "66sXuI-goSCx"
      },
      "outputs": [],
      "source": [
        "\n",
        "images = os.listdir('/content/drive/MyDrive/imgs')\n",
        "train_dir='/content/drive/MyDrive/imgs'"
      ],
      "id": "66sXuI-goSCx"
    },
    {
      "cell_type": "code",
      "execution_count": null,
      "metadata": {
        "id": "GqVdJ4kSHbNy"
      },
      "outputs": [],
      "source": [
        "from tensorflow.python.ops.numpy_ops import np_config\n",
        "np_config.enable_numpy_behavior()\n",
        "train_ds = tf.keras.utils.image_dataset_from_directory(train_dir,validation_split=0.3,subset=\"training\",seed=123,image_size=(IMAGE_SIZE, IMAGE_SIZE),)\n",
        "val_ds = tf.keras.utils.image_dataset_from_directory(train_dir,validation_split=0.3,subset=\"validation\",seed=123,image_size=(IMAGE_SIZE, IMAGE_SIZE),)\n",
        "train_ds = train_ds.unbatch()\n",
        "val_ds = val_ds.unbatch()\n",
        "train_xs = []\n",
        "test_xs = []\n",
        "for x,y in train_ds:\n",
        "    train_xs.append(x.astype('float32')/255.)\n",
        "for x,y in val_ds:\n",
        "    test_xs.append(x.astype('float32')/255.)\n",
        "train_xs = tf.convert_to_tensor(train_xs)\n",
        "test_xs = tf.convert_to_tensor(test_xs)"
      ],
      "id": "GqVdJ4kSHbNy"
    },
    {
      "cell_type": "code",
      "execution_count": null,
      "metadata": {
        "id": "8w0PBBEjoSC0"
      },
      "outputs": [],
      "source": [
        "print(train_xs.shape)\n",
        "print(test_xs.shape)"
      ],
      "id": "8w0PBBEjoSC0"
    },
    {
      "cell_type": "markdown",
      "metadata": {
        "id": "LoTMk7F-oSC5"
      },
      "source": [
        "### Show Random Train Image:"
      ],
      "id": "LoTMk7F-oSC5"
    },
    {
      "cell_type": "markdown",
      "metadata": {
        "id": "7ZfbG6qCoSC-"
      },
      "source": [
        "### Convolutional Layers:"
      ],
      "id": "7ZfbG6qCoSC-"
    },
    {
      "cell_type": "code",
      "source": [
        "#generating masks\n",
        "left = 60\n",
        "right = 76\n",
        "up = 78\n",
        "down = 62\n",
        "x_train = train_xs.numpy()\n",
        "black_train = x_train.copy()\n",
        "black_train[:,left:right,down:up,:] = 0\n",
        "train_labels = x_train[:,left:right,down:up,:]\n",
        "x_test = test_xs.numpy()\n",
        "black_test = x_test.copy()\n",
        "black_test[:,left:right,down:up,:] = 0\n",
        "test_labels = x_test[:,left:right,down:up,:]\n",
        "plt.imshow(black_test[0])"
      ],
      "metadata": {
        "id": "NRUyW5zFDdWY"
      },
      "id": "NRUyW5zFDdWY",
      "execution_count": null,
      "outputs": []
    },
    {
      "cell_type": "code",
      "execution_count": null,
      "metadata": {
        "id": "L0GXJQXvFn-K"
      },
      "outputs": [],
      "source": [
        "from tensorflow.keras.models import Model\n",
        "\n",
        "encoder_in = tf.keras.Input(shape=(128,128,3),name='img_input')\n",
        "layer = tf.keras.layers.Conv2D(64,(3,3),activation='relu',padding='same')(encoder_in)\n",
        "layer = tf.keras.layers.MaxPooling2D((2,2),padding='same')(layer)\n",
        "layer = tf.keras.layers.Conv2D(64,(3,3),activation='relu',padding='same')(encoder_in)\n",
        "layer = tf.keras.layers.MaxPooling2D((2,2),padding='same')(layer)\n",
        "layer = tf.keras.layers.Conv2D(32,(3,3),activation='relu',padding='same')(layer)\n",
        "layer = tf.keras.layers.MaxPooling2D((2,2),padding='same')(layer)\n",
        "layer = tf.keras.layers.Flatten()(layer)\n",
        "encoder_out = tf.keras.layers.Dense(1024,activation='relu')(layer)     \n",
        "decoder_in = tf.keras.layers.Dense(1024,activation='relu')(encoder_out)\n",
        "layer = tf.keras.layers.Reshape((8,8,16))(decoder_in)\n",
        "layer = tf.keras.layers.Conv2DTranspose(3,(3,3),activation='relu',padding='same')(layer)\n",
        "layer = layer = tf.keras.layers.Conv2DTranspose(64,(3,3),activation='relu',padding='same')(layer)\n",
        "layer = layer = tf.keras.layers.Conv2DTranspose(128,(3,3),activation='relu',padding='same')(layer)\n",
        "layer = tf.keras.layers.Conv2DTranspose(3,(3,3),activation='relu',padding='same',strides=(2,2))(layer)\n",
        "decoder_out = tf.keras.layers.Conv2DTranspose(3,(3,3),activation='relu',padding='same')(layer)\n",
        "\n",
        "         \n",
        "autoencoder = tf.keras.Model(encoder_in,decoder_out,name='an_dec')\n",
        "autoencoder.summary()\n",
        "      "
      ],
      "id": "L0GXJQXvFn-K"
    },
    {
      "cell_type": "code",
      "source": [
        "\n",
        "optimizer = tf.keras.optimizers.Adam(lr = 0.001,decay=1e-6)\n",
        "autoencoder.compile(optimizer=optimizer, loss=tf.keras.losses.MeanSquaredError())"
      ],
      "metadata": {
        "id": "Nz9zZfQjPySc"
      },
      "id": "Nz9zZfQjPySc",
      "execution_count": null,
      "outputs": []
    },
    {
      "cell_type": "code",
      "source": [
        "history = autoencoder.fit(black_train,train_labels ,\n",
        "                epochs=50,\n",
        "                shuffle=True,\n",
        "                batch_size=10,\n",
        "                validation_data=(black_test,test_labels))"
      ],
      "metadata": {
        "id": "nBipWFD3QLbD"
      },
      "id": "nBipWFD3QLbD",
      "execution_count": null,
      "outputs": []
    },
    {
      "cell_type": "code",
      "source": [
        "plt.plot(history.history['loss'])\n",
        "plt.plot(history.history['val_loss'])\n",
        "plt.title('model loss')\n",
        "plt.ylabel('loss')\n",
        "plt.xlabel('epoch')\n",
        "plt.legend(['train', 'val'], loc='upper left')\n",
        "plt.show()"
      ],
      "metadata": {
        "id": "gRE2hkxrjZnr"
      },
      "id": "gRE2hkxrjZnr",
      "execution_count": null,
      "outputs": []
    },
    {
      "cell_type": "code",
      "source": [
        ""
      ],
      "metadata": {
        "id": "42RsgDZPVzEc"
      },
      "id": "42RsgDZPVzEc",
      "execution_count": null,
      "outputs": []
    },
    {
      "cell_type": "code",
      "source": [
        "index = 100\n",
        "ry = autoencoder.predict(black_test[index].reshape(-1,128,128,3))\n",
        "pic = black_test[index].copy()\n",
        "pic[left:right,down:up] = ry\n",
        "rows = 1\n",
        "colls = 3\n",
        "fig = plt.figure(figsize=(10, 7))\n",
        "fig.add_subplot(rows,colls,1)\n",
        "plt.imshow(pic)\n",
        "plt.axis('off')\n",
        "plt.title(\"predicted\")\n",
        "fig.add_subplot(rows,colls,2)\n",
        "plt.imshow(test_xs[index])\n",
        "plt.axis('off')\n",
        "plt.title(\"original\")\n",
        "fig.add_subplot(rows,colls,3)\n",
        "plt.imshow(black_test[index])\n",
        "plt.axis('off')\n",
        "plt.title(\"input\")"
      ],
      "metadata": {
        "id": "eVMnH5IUYWZf"
      },
      "id": "eVMnH5IUYWZf",
      "execution_count": null,
      "outputs": []
    },
    {
      "cell_type": "code",
      "source": [
        "#generating 32x32 holes\n",
        "left = 52\n",
        "right = 84\n",
        "up = 86\n",
        "down = 54\n",
        "black_train_bigger = x_train.copy()\n",
        "black_train_bigger[:,left:right,down:up,:] = 0\n",
        "train_labels_bigger = x_train[:,left:right,down:up,:]\n",
        "black_test_bigger = x_test.copy()\n",
        "black_test_bigger[:,left:right,down:up,:] = 0\n",
        "test_labels_bigger = x_test[:,left:right,down:up,:]\n",
        "plt.imshow(black_train_bigger[0])"
      ],
      "metadata": {
        "id": "AuQzIeZf12Qk"
      },
      "id": "AuQzIeZf12Qk",
      "execution_count": null,
      "outputs": []
    },
    {
      "cell_type": "code",
      "source": [
        "from tensorflow.keras.models import Model\n",
        "\n",
        "encoder_in = tf.keras.Input(shape=(128,128,3),name='img_input')\n",
        "layer = tf.keras.layers.Conv2D(64,(3,3),activation='relu',padding='same')(encoder_in)\n",
        "layer = tf.keras.layers.MaxPooling2D((2,2),padding='same')(layer)\n",
        "layer = tf.keras.layers.Conv2D(64,(3,3),activation='relu',padding='same')(encoder_in)\n",
        "layer = tf.keras.layers.MaxPooling2D((2,2),padding='same')(layer)\n",
        "layer = tf.keras.layers.Conv2D(32,(3,3),activation='relu',padding='same')(layer)\n",
        "layer = tf.keras.layers.MaxPooling2D((2,2),padding='same')(layer)\n",
        "layer = tf.keras.layers.Flatten()(layer)\n",
        "encoder_out = tf.keras.layers.Dense(1024,activation='relu')(layer)\n",
        "       \n",
        "decoder_in = tf.keras.layers.Dense(1024,activation='relu')(encoder_out)\n",
        "layer = tf.keras.layers.Reshape((8,8,16))(decoder_in)\n",
        "layer = tf.keras.layers.Conv2DTranspose(3,(3,3),activation='relu',padding='same')(layer)\n",
        "layer = layer = tf.keras.layers.Conv2DTranspose(64,(3,3),activation='relu',padding='same')(layer)\n",
        "layer = tf.keras.layers.Conv2DTranspose(128,(3,3),activation='relu',padding='same')(layer)\n",
        "layer = tf.keras.layers.Conv2DTranspose(3,(3,3),activation='relu',padding='same',strides=(2,2))(layer)\n",
        "decoder_out = tf.keras.layers.Conv2DTranspose(3,(3,3),activation='relu',padding='same',strides=(2,2))(layer)\n",
        "\n",
        "          \n",
        "autoencoder = tf.keras.Model(encoder_in,decoder_out,name='an_dec')\n",
        "autoencoder.summary()"
      ],
      "metadata": {
        "id": "9KX4GME_56tj"
      },
      "id": "9KX4GME_56tj",
      "execution_count": null,
      "outputs": []
    },
    {
      "cell_type": "code",
      "source": [
        "optimizer = tf.keras.optimizers.Adam(lr = 0.001,decay=1e-6)\n",
        "autoencoder.compile(optimizer=optimizer, loss=tf.keras.losses.MeanSquaredError())\n",
        "history = autoencoder.fit(black_train_bigger,train_labels_bigger ,\n",
        "                epochs=50,\n",
        "                shuffle=True,\n",
        "                batch_size=10,\n",
        "                validation_data=(black_test_bigger,test_labels_bigger))\n"
      ],
      "metadata": {
        "id": "p3cKhE9w74CF"
      },
      "id": "p3cKhE9w74CF",
      "execution_count": null,
      "outputs": []
    },
    {
      "cell_type": "code",
      "source": [
        "index = 3\n",
        "ry = autoencoder.predict(black_test_bigger[index].reshape(-1,128,128,3))\n",
        "pic = black_test[index].copy()\n",
        "pic[left:right,down:up] = ry\n",
        "rows = 1\n",
        "colls = 3\n",
        "fig = plt.figure(figsize=(10, 7))\n",
        "fig.add_subplot(rows,colls,1)\n",
        "plt.imshow(pic)\n",
        "plt.axis('off')\n",
        "plt.title(\"predicted\")\n",
        "fig.add_subplot(rows,colls,2)\n",
        "plt.imshow(test_xs[index])\n",
        "plt.axis('off')\n",
        "plt.title(\"original\")\n",
        "fig.add_subplot(rows,colls,3)\n",
        "plt.imshow(black_test_bigger[index])\n",
        "plt.axis('off')\n",
        "plt.title(\"input\")"
      ],
      "metadata": {
        "id": "TGkK03FD83xW"
      },
      "id": "TGkK03FD83xW",
      "execution_count": null,
      "outputs": []
    },
    {
      "cell_type": "code",
      "source": [
        "plt.plot(history.history['loss'])\n",
        "plt.plot(history.history['val_loss'])\n",
        "plt.title('model loss')\n",
        "plt.ylabel('loss')\n",
        "plt.xlabel('epoch')\n",
        "plt.legend(['train', 'val'], loc='upper left')\n",
        "plt.show()"
      ],
      "metadata": {
        "id": "TAOPwfI5FabO"
      },
      "id": "TAOPwfI5FabO",
      "execution_count": null,
      "outputs": []
    }
  ],
  "metadata": {
    "colab": {
      "collapsed_sections": [],
      "name": "P3_neural_network_tensorflow_autocoder.ipynb",
      "provenance": []
    },
    "kernelspec": {
      "display_name": "Python 3",
      "language": "python",
      "name": "python3"
    },
    "language_info": {
      "codemirror_mode": {
        "name": "ipython",
        "version": 3
      },
      "file_extension": ".py",
      "mimetype": "text/x-python",
      "name": "python",
      "nbconvert_exporter": "python",
      "pygments_lexer": "ipython3",
      "version": "3.8.5"
    }
  },
  "nbformat": 4,
  "nbformat_minor": 5
}